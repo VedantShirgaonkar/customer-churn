{
 "cells": [
  {
   "cell_type": "code",
   "execution_count": 1,
   "id": "681c8509",
   "metadata": {},
   "outputs": [],
   "source": [
    "import tensorflow as tf\n",
    "from tensorflow.keras.models import load_model\n",
    "import numpy as np\n",
    "import pandas as pd\n",
    "import pickle"
   ]
  },
  {
   "cell_type": "code",
   "execution_count": 2,
   "id": "86f46e4c",
   "metadata": {},
   "outputs": [
    {
     "name": "stderr",
     "output_type": "stream",
     "text": [
      "WARNING:absl:Compiled the loaded model, but the compiled metrics have yet to be built. `model.compile_metrics` will be empty until you train or evaluate the model.\n"
     ]
    }
   ],
   "source": [
    "model = load_model('churn_model.h5')\n",
    "\n",
    "with open('scaler.pkl', 'rb') as f:\n",
    "    scaler = pickle.load(f)\n",
    "\n",
    "with open('label_encoder.pkl', 'rb') as f:\n",
    "    le = pickle.load(f)\n",
    "\n",
    "with open('ohe_encoder.pkl', 'rb') as f:\n",
    "    ohe = pickle.load(f)"
   ]
  },
  {
   "cell_type": "code",
   "execution_count": 3,
   "id": "21347799",
   "metadata": {},
   "outputs": [],
   "source": [
    "# Example input data\n",
    "input_data = pd.DataFrame({\n",
    "    'CreditScore': [600],\n",
    "    'Age': [40],\n",
    "    'Tenure': [5],\n",
    "    'Balance': [10000],\n",
    "    'NumOfProducts': [2],\n",
    "    'HasCrCard': [1],\n",
    "    'IsActiveMember': [1],\n",
    "    'EstimatedSalary': [50000],\n",
    "    'Geography': ['France'],\n",
    "    'Gender': ['Female']\n",
    "})"
   ]
  },
  {
   "cell_type": "code",
   "execution_count": null,
   "id": "60b00adf",
   "metadata": {},
   "outputs": [
    {
     "ename": "AttributeError",
     "evalue": "'Index' object has no attribute 'transform'",
     "output_type": "error",
     "traceback": [
      "\u001b[31m---------------------------------------------------------------------------\u001b[39m",
      "\u001b[31mAttributeError\u001b[39m                            Traceback (most recent call last)",
      "\u001b[36mCell\u001b[39m\u001b[36m \u001b[39m\u001b[32mIn[4]\u001b[39m\u001b[32m, line 2\u001b[39m\n\u001b[32m      1\u001b[39m \u001b[38;5;66;03m# Converting input data\u001b[39;00m\n\u001b[32m----> \u001b[39m\u001b[32m2\u001b[39m input_data[\u001b[33m'\u001b[39m\u001b[33mGeography\u001b[39m\u001b[33m'\u001b[39m] = \u001b[43mohe\u001b[49m\u001b[43m.\u001b[49m\u001b[43mtransform\u001b[49m(input_data[[\u001b[33m'\u001b[39m\u001b[33mGeography\u001b[39m\u001b[33m'\u001b[39m]])\n\u001b[32m      3\u001b[39m input_data\n",
      "\u001b[31mAttributeError\u001b[39m: 'Index' object has no attribute 'transform'"
     ]
    }
   ],
   "source": [
    "# Converting input data\n",
    "inp"
   ]
  },
  {
   "cell_type": "code",
   "execution_count": null,
   "id": "97b62f9a",
   "metadata": {},
   "outputs": [],
   "source": []
  }
 ],
 "metadata": {
  "kernelspec": {
   "display_name": "newenv",
   "language": "python",
   "name": "python3"
  },
  "language_info": {
   "codemirror_mode": {
    "name": "ipython",
    "version": 3
   },
   "file_extension": ".py",
   "mimetype": "text/x-python",
   "name": "python",
   "nbconvert_exporter": "python",
   "pygments_lexer": "ipython3",
   "version": "3.11.0"
  }
 },
 "nbformat": 4,
 "nbformat_minor": 5
}
